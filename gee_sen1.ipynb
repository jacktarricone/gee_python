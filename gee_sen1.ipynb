{
 "cells": [
  {
   "cell_type": "code",
   "execution_count": 20,
   "id": "7e155c30-61c8-447d-b9e7-12d9a15cb851",
   "metadata": {},
   "outputs": [],
   "source": [
    "import ee\n",
    "import geemap\n",
    "import pandas as pd\n",
    "import matplotlib.pyplot as plt\n",
    "import numpy as np\n",
    "from scipy.stats import norm, gamma, f, chi2\n",
    "import IPython.display as disp\n",
    "%matplotlib inline"
   ]
  },
  {
   "cell_type": "code",
   "execution_count": 3,
   "id": "ba5fcca1-8b7a-4caf-b399-da6e1f06542a",
   "metadata": {},
   "outputs": [],
   "source": [
    "# Initialize the library.\n",
    "ee.Initialize()"
   ]
  },
  {
   "cell_type": "code",
   "execution_count": 67,
   "id": "5f1b8eca",
   "metadata": {
    "scrolled": true
   },
   "outputs": [
    {
     "data": {
      "application/vnd.jupyter.widget-view+json": {
       "model_id": "787589f41149482aba42f370eb616e2f",
       "version_major": 2,
       "version_minor": 0
      },
      "text/plain": [
       "Map(center=[40, -100], controls=(WidgetControl(options=['position', 'transparent_bg'], widget=HBox(children=(T…"
      ]
     },
     "metadata": {},
     "output_type": "display_data"
    }
   ],
   "source": [
    "Map = geemap.Map(center=[40, -100], zoom=4)\n",
    "Map.add_basemap('ROADMAP')  # Add Google Map\n",
    "Map"
   ]
  },
  {
   "cell_type": "code",
   "execution_count": 69,
   "id": "cd5953cd",
   "metadata": {},
   "outputs": [
    {
     "name": "stdout",
     "output_type": "stream",
     "text": [
      "['VV', 'VH', 'angle', 'system:time_start']\n"
     ]
    }
   ],
   "source": [
    "# This function adds a band representing the image timestamp.\n",
    "def addTime(image):\n",
    "    return image.addBands(image.metadata('system:time_start'))\n",
    "\n",
    "\n",
    "collection = (ee.ImageCollection('COPERNICUS/S1_GRD')\n",
    "                 .filterBounds(aoi)\n",
    "                 .filterDate(ee.Date('2022-02-28'), ee.Date('2022-03-10'))\n",
    ") \n",
    "\n",
    "first = collection.map(addTime).first()\n",
    "\n",
    "# Map the function over the collection and display the result.\n",
    "# print(collection.map(addTime).getInfo())\n",
    "print(first.bandNames().getInfo())"
   ]
  },
  {
   "cell_type": "code",
   "execution_count": 15,
   "id": "4ac72771",
   "metadata": {},
   "outputs": [],
   "source": [
    "geoJSON = {\n",
    "  \"type\": \"FeatureCollection\",\n",
    "  \"features\": [\n",
    "    {\n",
    "      \"type\": \"Feature\",\n",
    "      \"properties\": {},\n",
    "      \"geometry\": {\n",
    "        \"type\": \"Polygon\",\n",
    "        \"coordinates\": [\n",
    "          [\n",
    "            [\n",
    "              153.18649291992188,\n",
    "              -28.95347983731973\n",
    "            ],\n",
    "            [\n",
    "              153.6156463623047,\n",
    "              -28.95347983731973\n",
    "            ],\n",
    "            [\n",
    "              153.6156463623047,\n",
    "              -28.72070045309386\n",
    "            ],\n",
    "            [\n",
    "              153.18649291992188,\n",
    "              -28.72070045309386\n",
    "            ],\n",
    "            [\n",
    "              153.18649291992188,\n",
    "              -28.95347983731973\n",
    "            ]\n",
    "          ]\n",
    "        ]\n",
    "      }\n",
    "    }\n",
    "  ]\n",
    "}"
   ]
  },
  {
   "cell_type": "code",
   "execution_count": 16,
   "id": "18ea79d9",
   "metadata": {},
   "outputs": [],
   "source": [
    "coords = geoJSON['features'][0]['geometry']['coordinates']\n",
    "aoi = ee.Geometry.Polygon(coords)"
   ]
  },
  {
   "cell_type": "code",
   "execution_count": 60,
   "id": "07fc53c5",
   "metadata": {},
   "outputs": [],
   "source": [
    "ffa_db = ee.Image(ee.ImageCollection('COPERNICUS/S1_GRD') \n",
    "                       .filterBounds(aoi) \n",
    "                       .filterDate(ee.Date('2022-03-26'), ee.Date('2022-03-30')) \n",
    "                       .first() \n",
    "                       .clip(aoi))"
   ]
  },
  {
   "cell_type": "code",
   "execution_count": 61,
   "id": "087da330",
   "metadata": {},
   "outputs": [],
   "source": [
    "collection_db = ee.ImageCollection('COPERNICUS/S1_GRD').filterBounds(aoi).filterDate(ee.Date('2022-02-28'), ee.Date('2022-03-10')) "
   ]
  },
  {
   "cell_type": "code",
   "execution_count": 62,
   "id": "b6d025b9",
   "metadata": {},
   "outputs": [
    {
     "data": {
      "text/plain": [
       "ee.imagecollection.ImageCollection"
      ]
     },
     "execution_count": 62,
     "metadata": {},
     "output_type": "execute_result"
    }
   ],
   "source": [
    "type(collection_db)"
   ]
  },
  {
   "cell_type": "code",
   "execution_count": 63,
   "id": "354f58d9",
   "metadata": {},
   "outputs": [
    {
     "data": {
      "text/plain": [
       "['VV', 'VH', 'angle']"
      ]
     },
     "execution_count": 63,
     "metadata": {},
     "output_type": "execute_result"
    }
   ],
   "source": [
    "ffa_db.bandNames().getInfo()"
   ]
  },
  {
   "cell_type": "code",
   "execution_count": 64,
   "id": "6c366d24",
   "metadata": {},
   "outputs": [
    {
     "data": {
      "text/html": [
       "<img src=\"https://earthengine.googleapis.com/v1alpha/projects/earthengine-legacy/thumbnails/09d53eea28d2e62ed305be29bec7319d-e3ab67de802485259920523d9d3c3450:getPixels\" width=\"800\"/>"
      ],
      "text/plain": [
       "<IPython.core.display.Image object>"
      ]
     },
     "execution_count": 64,
     "metadata": {},
     "output_type": "execute_result"
    }
   ],
   "source": [
    "url = ffa_db.select('VV').getThumbURL({'min': -20, 'max': 0})\n",
    "disp.Image(url=url, width=800)"
   ]
  },
  {
   "cell_type": "code",
   "execution_count": null,
   "id": "b33bddd7-35a4-46ec-bec9-40205502f602",
   "metadata": {},
   "outputs": [],
   "source": [
    "# Import the MODIS land cover collection.\n",
    "lc = ee.ImageCollection('MODIS/006/MCD12Q1')\n",
    "\n",
    "# Import the MODIS land surface temperature collection.\n",
    "lst = ee.ImageCollection('MODIS/006/MOD11A1')\n",
    "\n",
    "# Import the USGS ground elevation image.\n",
    "elv = ee.Image('USGS/SRTMGL1_003')"
   ]
  }
 ],
 "metadata": {
  "kernelspec": {
   "display_name": "Python [conda env:ee]",
   "language": "python",
   "name": "conda-env-ee-py"
  },
  "language_info": {
   "codemirror_mode": {
    "name": "ipython",
    "version": 3
   },
   "file_extension": ".py",
   "mimetype": "text/x-python",
   "name": "python",
   "nbconvert_exporter": "python",
   "pygments_lexer": "ipython3",
   "version": "3.10.4"
  }
 },
 "nbformat": 4,
 "nbformat_minor": 5
}
