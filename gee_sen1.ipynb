{
 "cells": [
  {
   "cell_type": "code",
   "execution_count": 1,
   "id": "7e155c30-61c8-447d-b9e7-12d9a15cb851",
   "metadata": {},
   "outputs": [],
   "source": [
    "# visualizing sen1 data through geemap\n",
    "# just starting on this but got it to work\n",
    "\n",
    "import ee\n",
    "import geemap\n",
    "import pandas as pd\n",
    "import matplotlib.pyplot as plt\n",
    "import numpy as np\n",
    "from scipy.stats import norm, gamma, f, chi2\n",
    "import IPython.display as disp\n",
    "%matplotlib inline"
   ]
  },
  {
   "cell_type": "code",
   "execution_count": 2,
   "id": "ba5fcca1-8b7a-4caf-b399-da6e1f06542a",
   "metadata": {},
   "outputs": [],
   "source": [
    "# Initialize the library.\n",
    "ee.Initialize()"
   ]
  },
  {
   "cell_type": "code",
   "execution_count": 3,
   "id": "5f1b8eca",
   "metadata": {
    "scrolled": true
   },
   "outputs": [
    {
     "data": {
      "application/vnd.jupyter.widget-view+json": {
       "model_id": "008602e4e7e041bc9711275e5b0b3462",
       "version_major": 2,
       "version_minor": 0
      },
      "text/plain": [
       "Map(center=[20, 0], controls=(WidgetControl(options=['position', 'transparent_bg'], widget=HBox(children=(Togg…"
      ]
     },
     "metadata": {},
     "output_type": "display_data"
    }
   ],
   "source": [
    "Map = geemap.Map()\n",
    "Map"
   ]
  },
  {
   "cell_type": "code",
   "execution_count": 4,
   "id": "637a1d6e",
   "metadata": {},
   "outputs": [],
   "source": [
    "# import geojson for area around lismore\n",
    "\n",
    "geoJSON = {\n",
    "  \"type\": \"FeatureCollection\",\n",
    "  \"features\": [\n",
    "    {\n",
    "      \"type\": \"Feature\",\n",
    "      \"properties\": {},\n",
    "      \"geometry\": {\n",
    "        \"type\": \"Polygon\",\n",
    "        \"coordinates\": [\n",
    "          [\n",
    "            [\n",
    "              151.358642578125,\n",
    "              -30.391830328088137\n",
    "            ],\n",
    "            [\n",
    "              154.09423828124997,\n",
    "              -30.391830328088137\n",
    "            ],\n",
    "            [\n",
    "              154.09423828124997,\n",
    "              -28.09136628140693\n",
    "            ],\n",
    "            [\n",
    "              151.358642578125,\n",
    "              -28.09136628140693\n",
    "            ],\n",
    "            [\n",
    "              151.358642578125,\n",
    "              -30.391830328088137\n",
    "            ]\n",
    "          ]\n",
    "        ]\n",
    "      }\n",
    "    }\n",
    "  ]\n",
    "}"
   ]
  },
  {
   "cell_type": "code",
   "execution_count": 5,
   "id": "4f75ccb9",
   "metadata": {},
   "outputs": [],
   "source": [
    "# convert to aoi for ee.image definition\n",
    "coords = geoJSON['features'][0]['geometry']['coordinates']\n",
    "aoi = ee.Geometry.Polygon(coords)"
   ]
  },
  {
   "cell_type": "code",
   "execution_count": 7,
   "id": "7be85bd7",
   "metadata": {},
   "outputs": [
    {
     "name": "stdout",
     "output_type": "stream",
     "text": [
      "['VV', 'VH', 'angle']\n"
     ]
    }
   ],
   "source": [
    "# define sen1 image during flood\n",
    "sen1_flood = ee.Image(ee.ImageCollection('COPERNICUS/S1_GRD') \n",
    "                       .filterBounds(aoi) \n",
    "                       .filterDate(ee.Date('2022-03-01'), ee.Date('2022-03-10')) \n",
    "                       .first() \n",
    "                       .clip(aoi))\n",
    "\n",
    "print(sen1_flood.bandNames().getInfo())"
   ]
  },
  {
   "cell_type": "code",
   "execution_count": 8,
   "id": "d81a9d37",
   "metadata": {},
   "outputs": [],
   "source": [
    "# define sen1 image after flood\n",
    "sen1_flood = ee.Image(ee.ImageCollection('COPERNICUS/S1_GRD') \n",
    "                       .filterBounds(aoi) \n",
    "                       .filterDate(ee.Date('2022-03-01'), ee.Date('2022-03-10')) \n",
    "                       .first() \n",
    "                       .clip(aoi))"
   ]
  },
  {
   "cell_type": "code",
   "execution_count": 9,
   "id": "9b17f50c",
   "metadata": {
    "scrolled": true
   },
   "outputs": [],
   "source": [
    "# add both flood and post flood layers to the map\n",
    "Map.addLayer(\n",
    "    sen1_flood,\n",
    "    {'bands': ['VV'], 'min': -20, 'max': 0},\n",
    "    'Sentinel-1 Flood VV',\n",
    ")\n",
    "\n",
    "Map.addLayer(\n",
    "    sen1_post_flood,\n",
    "    {'bands': ['VV'], 'min': -20, 'max': 0},\n",
    "    'Sentinel-1 Post Flood VV',\n",
    ")\n"
   ]
  },
  {
   "cell_type": "code",
   "execution_count": null,
   "id": "cc1b79d0",
   "metadata": {},
   "outputs": [],
   "source": []
  },
  {
   "cell_type": "code",
   "execution_count": null,
   "id": "323fe0f7",
   "metadata": {},
   "outputs": [],
   "source": []
  }
 ],
 "metadata": {
  "kernelspec": {
   "display_name": "Python [conda env:ee]",
   "language": "python",
   "name": "conda-env-ee-py"
  },
  "language_info": {
   "codemirror_mode": {
    "name": "ipython",
    "version": 3
   },
   "file_extension": ".py",
   "mimetype": "text/x-python",
   "name": "python",
   "nbconvert_exporter": "python",
   "pygments_lexer": "ipython3",
   "version": "3.10.4"
  }
 },
 "nbformat": 4,
 "nbformat_minor": 5
}
